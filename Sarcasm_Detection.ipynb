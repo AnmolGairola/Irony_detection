{
 "cells": [
  {
   "cell_type": "markdown",
   "id": "5d388e5c",
   "metadata": {},
   "source": [
    "# Digital Assignment 2\n",
    "\n",
    "##### Anmol Gairola 19BCE1615\n",
    "\n",
    "#### Design a robust NLP application for sarcasm or irony detection using appropriate Natural Language Processing Techniques."
   ]
  },
  {
   "cell_type": "markdown",
   "id": "54d8045a",
   "metadata": {},
   "source": [
    "When I was researching about irony to complete this assignment I noticed how ironies had both positive and negative words used together. \n",
    "\n",
    "Ironies is a positive sentence to a negative situation or a negative sentence for a positive situation.\n",
    "\n",
    "Using this knowledge the first thing I did was create my own small data of positive and negative words"
   ]
  },
  {
   "cell_type": "code",
   "execution_count": 1,
   "id": "e8bdc0a2",
   "metadata": {},
   "outputs": [],
   "source": [
    "goodWords = [\"good\", \"amazing\", \"like\", \"great\", \"love\", \"happy\", \"wow\"]\n",
    "badWords = [\"bad\", \"broke\", \"stupid\", \"dumb\", \"looser\"]"
   ]
  },
  {
   "cell_type": "markdown",
   "id": "1d2ecd36",
   "metadata": {},
   "source": [
    "Then I took some sentences to check how well my algorithm will perform on them."
   ]
  },
  {
   "cell_type": "code",
   "execution_count": 34,
   "id": "34243e36",
   "metadata": {},
   "outputs": [],
   "source": [
    "sentence1 = \"wow how do you manage to be this dumb\"\n",
    "sentence2 = \"i like your hat\"\n",
    "sentence3 = \"i like your hat , it looks stupid on you\"\n",
    "sentence4 = \"wow anmol you broke the cup again\""
   ]
  },
  {
   "cell_type": "markdown",
   "id": "c0ddffa1",
   "metadata": {},
   "source": [
    "This is the main function that detects if a sentence is a sarcasm\n",
    "\n",
    "First we take a sentence as a parameter and tokenize it to create a list of words present in the sentence.\n",
    "\n",
    "Then we loop through the list to check if it has both a positive word and a negative word. \n",
    "\n",
    "If it does have a positive and a negtive word then the value of the variable ironyChecker should be 2. It also signifies that the sentence given as the parameter was a sarcasm."
   ]
  },
  {
   "cell_type": "code",
   "execution_count": 40,
   "id": "8b1db379",
   "metadata": {},
   "outputs": [],
   "source": [
    "import nltk\n",
    "\n",
    "def checkIrony(sentence):\n",
    "    ironyCheck = 0\n",
    "    tokens = nltk.word_tokenize(sentence)\n",
    "    print (sentence)\n",
    "    for i in goodWords:\n",
    "        for j in tokens:\n",
    "            if(i == j):\n",
    "                ironyCheck += 1\n",
    "\n",
    "    for i in badWords:\n",
    "        for j in tokens:\n",
    "            if(i == j):\n",
    "                ironyCheck += 1\n",
    "    #print(\"ironyCheck: \", ironyCheck)\n",
    "    \n",
    "    if(ironyCheck == 2):\n",
    "        print(\"It was a sarcasm\")\n",
    "\n",
    "    else:\n",
    "        print(\"It was not a sarcasm\")\n",
    "    \n",
    "    print(\"________________________________________\")\n"
   ]
  },
  {
   "cell_type": "markdown",
   "id": "9acac72d",
   "metadata": {},
   "source": [
    "This is how my algorithm has performed. I feel the resuls are really good and can surely be improved if I take this as a project some day in the future. "
   ]
  },
  {
   "cell_type": "code",
   "execution_count": 41,
   "id": "6ac00a8c",
   "metadata": {},
   "outputs": [
    {
     "name": "stdout",
     "output_type": "stream",
     "text": [
      "wow how do you manage to be this dumb\n",
      "It was a sarcasm\n",
      "________________________________________\n",
      "i like your hat\n",
      "It was not a sarcasm\n",
      "________________________________________\n",
      "i like your hat , it looks stupid on you\n",
      "It was a sarcasm\n",
      "________________________________________\n",
      "wow anmol you broke the cup again\n",
      "It was a sarcasm\n",
      "________________________________________\n"
     ]
    }
   ],
   "source": [
    "checkIrony(sentence1)\n",
    "checkIrony(sentence2)\n",
    "checkIrony(sentence3)\n",
    "checkIrony(sentence4)"
   ]
  }
 ],
 "metadata": {
  "kernelspec": {
   "display_name": "Python 3",
   "language": "python",
   "name": "python3"
  },
  "language_info": {
   "codemirror_mode": {
    "name": "ipython",
    "version": 3
   },
   "file_extension": ".py",
   "mimetype": "text/x-python",
   "name": "python",
   "nbconvert_exporter": "python",
   "pygments_lexer": "ipython3",
   "version": "3.8.8"
  }
 },
 "nbformat": 4,
 "nbformat_minor": 5
}
